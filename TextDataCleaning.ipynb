{
 "cells": [
  {
   "cell_type": "code",
   "execution_count": 1,
   "id": "781e65e4",
   "metadata": {},
   "outputs": [],
   "source": [
    "SenA = \"Yoga brings us peace. The peace from yoga is not merely for individuals, but also for our society. Yoga brings peace to our nations and the world, and also the universe\"\n",
    "\n",
    "SenB = \"The practices of yoga are giving wonderful inspiration for health, balance and cooperation. Today is the time to realise the infinite possibilities associated with yoga. When we start living yoga, Yoga Day becomes a medium to celebrate our health, happiness and peace\""
   ]
  },
  {
   "cell_type": "markdown",
   "id": "f2ff20d7",
   "metadata": {},
   "source": [
    "# Remove Punctuation"
   ]
  },
  {
   "cell_type": "markdown",
   "id": "17a2dd79",
   "metadata": {},
   "source": [
    "remove all punctuation and special chars from the data using regex (regular expression)"
   ]
  },
  {
   "cell_type": "code",
   "execution_count": 30,
   "id": "224d06a6",
   "metadata": {},
   "outputs": [],
   "source": [
    "import re"
   ]
  },
  {
   "cell_type": "code",
   "execution_count": 3,
   "id": "fed643bf",
   "metadata": {},
   "outputs": [],
   "source": [
    "cleanSenA = re.sub(r\"[^\\w\\s]\",\"\",SenA)"
   ]
  },
  {
   "cell_type": "code",
   "execution_count": 4,
   "id": "f7695025",
   "metadata": {},
   "outputs": [
    {
     "data": {
      "text/plain": [
       "'Yoga brings us peace The peace from yoga is not merely for individuals but also for our society Yoga brings peace to our nations and the world and also the universe'"
      ]
     },
     "execution_count": 4,
     "metadata": {},
     "output_type": "execute_result"
    }
   ],
   "source": [
    "cleanSenA"
   ]
  },
  {
   "cell_type": "code",
   "execution_count": 5,
   "id": "8c9171a2",
   "metadata": {},
   "outputs": [],
   "source": [
    "cleanSenB = re.sub(r\"[^\\w\\s]\",\"\",SenB)"
   ]
  },
  {
   "cell_type": "code",
   "execution_count": 6,
   "id": "3f8491c8",
   "metadata": {},
   "outputs": [
    {
     "data": {
      "text/plain": [
       "'The practices of yoga are giving wonderful inspiration for health balance and cooperation Today is the time to realise the infinite possibilities associated with yoga When we start living yoga Yoga Day becomes a medium to celebrate our health happiness and peace'"
      ]
     },
     "execution_count": 6,
     "metadata": {},
     "output_type": "execute_result"
    }
   ],
   "source": [
    "cleanSenB"
   ]
  },
  {
   "cell_type": "markdown",
   "id": "22fc680b",
   "metadata": {},
   "source": [
    "# Tokenization"
   ]
  },
  {
   "cell_type": "markdown",
   "id": "0905d8f4",
   "metadata": {},
   "source": [
    "Process of coverting data into smaller chunks or tokens are known as Tokenization"
   ]
  },
  {
   "cell_type": "code",
   "execution_count": 7,
   "id": "447002f4",
   "metadata": {},
   "outputs": [],
   "source": [
    "from nltk import word_tokenize"
   ]
  },
  {
   "cell_type": "code",
   "execution_count": 8,
   "id": "690956eb",
   "metadata": {},
   "outputs": [],
   "source": [
    "SenAToken = word_tokenize(cleanSenA)"
   ]
  },
  {
   "cell_type": "code",
   "execution_count": 9,
   "id": "5e11f3f0",
   "metadata": {},
   "outputs": [
    {
     "data": {
      "text/plain": [
       "['Yoga', 'brings', 'us', 'peace', 'The', 'peace', 'from', 'yoga', 'is', 'not']"
      ]
     },
     "execution_count": 9,
     "metadata": {},
     "output_type": "execute_result"
    }
   ],
   "source": [
    "SenAToken[:10]"
   ]
  },
  {
   "cell_type": "code",
   "execution_count": 10,
   "id": "5381b96f",
   "metadata": {},
   "outputs": [],
   "source": [
    "SenBToken = word_tokenize(cleanSenB)"
   ]
  },
  {
   "cell_type": "code",
   "execution_count": 11,
   "id": "7b480eeb",
   "metadata": {},
   "outputs": [
    {
     "data": {
      "text/plain": [
       "['The',\n",
       " 'practices',\n",
       " 'of',\n",
       " 'yoga',\n",
       " 'are',\n",
       " 'giving',\n",
       " 'wonderful',\n",
       " 'inspiration',\n",
       " 'for',\n",
       " 'health']"
      ]
     },
     "execution_count": 11,
     "metadata": {},
     "output_type": "execute_result"
    }
   ],
   "source": [
    "SenBToken[:10]"
   ]
  },
  {
   "cell_type": "markdown",
   "id": "55e5a629",
   "metadata": {},
   "source": [
    "# Remove Stopwords "
   ]
  },
  {
   "cell_type": "markdown",
   "id": "893ff4d4",
   "metadata": {},
   "source": [
    "Stopwords are those words in a sentence which has very less or no meaning and generally they are included for the purpose of sentence structure formation."
   ]
  },
  {
   "cell_type": "code",
   "execution_count": 12,
   "id": "f810e10d",
   "metadata": {},
   "outputs": [],
   "source": [
    "from nltk.corpus import stopwords"
   ]
  },
  {
   "cell_type": "code",
   "execution_count": 13,
   "id": "fe1363c6",
   "metadata": {},
   "outputs": [],
   "source": [
    "stop_words = stopwords.words(\"english\")"
   ]
  },
  {
   "cell_type": "code",
   "execution_count": 14,
   "id": "a34ed947",
   "metadata": {},
   "outputs": [],
   "source": [
    "WOstopwordsSenA = list()\n",
    "for word in SenAToken:\n",
    "    if word not in stop_words:\n",
    "        WOstopwordsSenA.append(word)\n"
   ]
  },
  {
   "cell_type": "code",
   "execution_count": 15,
   "id": "fac97c79",
   "metadata": {},
   "outputs": [
    {
     "data": {
      "text/plain": [
       "['Yoga',\n",
       " 'brings',\n",
       " 'us',\n",
       " 'peace',\n",
       " 'The',\n",
       " 'peace',\n",
       " 'yoga',\n",
       " 'merely',\n",
       " 'individuals',\n",
       " 'also']"
      ]
     },
     "execution_count": 15,
     "metadata": {},
     "output_type": "execute_result"
    }
   ],
   "source": [
    "WOstopwordsSenA[:10]"
   ]
  },
  {
   "cell_type": "code",
   "execution_count": 16,
   "id": "d5ce2b7f",
   "metadata": {},
   "outputs": [],
   "source": [
    "WOstopwordsSenB = list()\n",
    "for word in SenBToken:\n",
    "    if word not in stop_words:\n",
    "        WOstopwordsSenB.append(word)"
   ]
  },
  {
   "cell_type": "code",
   "execution_count": 17,
   "id": "c3e95473",
   "metadata": {},
   "outputs": [
    {
     "data": {
      "text/plain": [
       "['The',\n",
       " 'practices',\n",
       " 'yoga',\n",
       " 'giving',\n",
       " 'wonderful',\n",
       " 'inspiration',\n",
       " 'health',\n",
       " 'balance',\n",
       " 'cooperation',\n",
       " 'Today']"
      ]
     },
     "execution_count": 17,
     "metadata": {},
     "output_type": "execute_result"
    }
   ],
   "source": [
    "WOstopwordsSenB[:10]"
   ]
  },
  {
   "cell_type": "markdown",
   "id": "5ec7c216",
   "metadata": {},
   "source": [
    "# Stemming"
   ]
  },
  {
   "cell_type": "markdown",
   "id": "d08ae985",
   "metadata": {},
   "source": [
    "Stemming is process where a word is converted/reduced to its stem. It removes suffix and prefix from the word. It uses rule based method to reduce the word hence it is proved to be less effective and can return incorrect result.\n",
    "It is used because it is simple to understand and implement new rules"
   ]
  },
  {
   "cell_type": "code",
   "execution_count": 18,
   "id": "d0fb0ffb",
   "metadata": {},
   "outputs": [],
   "source": [
    "from nltk.stem import PorterStemmer"
   ]
  },
  {
   "cell_type": "code",
   "execution_count": 19,
   "id": "dd2e3a02",
   "metadata": {},
   "outputs": [],
   "source": [
    "ps = PorterStemmer()"
   ]
  },
  {
   "cell_type": "code",
   "execution_count": 20,
   "id": "e31676ef",
   "metadata": {},
   "outputs": [],
   "source": [
    "stemmedA = list()\n",
    "for word in WOstopwordsSenA:\n",
    "    stemmedA.append(ps.stem(word))"
   ]
  },
  {
   "cell_type": "code",
   "execution_count": 21,
   "id": "15254e8f",
   "metadata": {},
   "outputs": [
    {
     "data": {
      "text/plain": [
       "['yoga', 'bring', 'us', 'peac', 'the']"
      ]
     },
     "execution_count": 21,
     "metadata": {},
     "output_type": "execute_result"
    }
   ],
   "source": [
    "stemmedA[:5]"
   ]
  },
  {
   "cell_type": "code",
   "execution_count": 22,
   "id": "09513ce1",
   "metadata": {},
   "outputs": [],
   "source": [
    "stemmedB = list()\n",
    "for word in WOstopwordsSenB:\n",
    "    stemmedB.append(ps.stem(word))"
   ]
  },
  {
   "cell_type": "code",
   "execution_count": 23,
   "id": "cb1ae629",
   "metadata": {},
   "outputs": [
    {
     "data": {
      "text/plain": [
       "['the', 'practic', 'yoga', 'give', 'wonder']"
      ]
     },
     "execution_count": 23,
     "metadata": {},
     "output_type": "execute_result"
    }
   ],
   "source": [
    "stemmedB[:5]"
   ]
  },
  {
   "cell_type": "markdown",
   "id": "90cb8d3b",
   "metadata": {},
   "source": [
    "# Lemmatization"
   ]
  },
  {
   "cell_type": "markdown",
   "id": "1facc316",
   "metadata": {},
   "source": [
    "Lemmatization is a process where a word is converted to its root form. It is more effecient and useful than stemming."
   ]
  },
  {
   "cell_type": "code",
   "execution_count": 24,
   "id": "4af71fb8",
   "metadata": {},
   "outputs": [],
   "source": [
    "from nltk.stem import WordNetLemmatizer"
   ]
  },
  {
   "cell_type": "code",
   "execution_count": 25,
   "id": "7bcc3dea",
   "metadata": {},
   "outputs": [],
   "source": [
    "lm = WordNetLemmatizer()"
   ]
  },
  {
   "cell_type": "code",
   "execution_count": 26,
   "id": "52afb6d2",
   "metadata": {},
   "outputs": [],
   "source": [
    "lemmatizedA = list()\n",
    "for word in WOstopwordsSenA:\n",
    "    lemmatizedA.append(lm.lemmatize(word))"
   ]
  },
  {
   "cell_type": "code",
   "execution_count": 27,
   "id": "c1846363",
   "metadata": {},
   "outputs": [
    {
     "data": {
      "text/plain": [
       "['Yoga', 'brings', 'u', 'peace', 'The']"
      ]
     },
     "execution_count": 27,
     "metadata": {},
     "output_type": "execute_result"
    }
   ],
   "source": [
    "lemmatizedA[:5]"
   ]
  },
  {
   "cell_type": "code",
   "execution_count": 28,
   "id": "da9070a2",
   "metadata": {},
   "outputs": [],
   "source": [
    "lemmatizedB = list()\n",
    "for word in WOstopwordsSenB:\n",
    "    lemmatizedB.append(lm.lemmatize(word))"
   ]
  },
  {
   "cell_type": "code",
   "execution_count": 29,
   "id": "bf89c6c7",
   "metadata": {},
   "outputs": [
    {
     "data": {
      "text/plain": [
       "['The', 'practice', 'yoga', 'giving', 'wonderful']"
      ]
     },
     "execution_count": 29,
     "metadata": {},
     "output_type": "execute_result"
    }
   ],
   "source": [
    "lemmatizedB[:5]"
   ]
  },
  {
   "cell_type": "code",
   "execution_count": null,
   "id": "b797c02b",
   "metadata": {},
   "outputs": [],
   "source": []
  }
 ],
 "metadata": {
  "kernelspec": {
   "display_name": "Python 3 (ipykernel)",
   "language": "python",
   "name": "python3"
  },
  "language_info": {
   "codemirror_mode": {
    "name": "ipython",
    "version": 3
   },
   "file_extension": ".py",
   "mimetype": "text/x-python",
   "name": "python",
   "nbconvert_exporter": "python",
   "pygments_lexer": "ipython3",
   "version": "3.9.7"
  }
 },
 "nbformat": 4,
 "nbformat_minor": 5
}
