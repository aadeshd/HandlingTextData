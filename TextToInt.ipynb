{
 "cells": [
  {
   "cell_type": "code",
   "execution_count": 2,
   "id": "40993569",
   "metadata": {},
   "outputs": [],
   "source": [
    "senA = \"The peace from yoga is not merely for individuals but for society\"\n",
    "senB = \"The practice of yoga is giving wonderful inspiration for health\""
   ]
  },
  {
   "cell_type": "markdown",
   "id": "6deb36a1",
   "metadata": {},
   "source": [
    "# Bag Of Words"
   ]
  },
  {
   "cell_type": "code",
   "execution_count": 3,
   "id": "8c3f178b",
   "metadata": {},
   "outputs": [],
   "source": [
    "from sklearn.feature_extraction.text import CountVectorizer"
   ]
  },
  {
   "cell_type": "code",
   "execution_count": 4,
   "id": "86752601",
   "metadata": {},
   "outputs": [],
   "source": [
    "corpus = [senA, senB]"
   ]
  },
  {
   "cell_type": "code",
   "execution_count": 5,
   "id": "b70f1dd5",
   "metadata": {},
   "outputs": [
    {
     "data": {
      "text/plain": [
       "['The peace from yoga is not merely for individuals but for society',\n",
       " 'The practice of yoga is giving wonderful inspiration for health']"
      ]
     },
     "execution_count": 5,
     "metadata": {},
     "output_type": "execute_result"
    }
   ],
   "source": [
    "corpus"
   ]
  },
  {
   "cell_type": "code",
   "execution_count": 6,
   "id": "645f4935",
   "metadata": {},
   "outputs": [],
   "source": [
    "vc= CountVectorizer()\n",
    "toInt = vc.fit_transform(corpus)"
   ]
  },
  {
   "cell_type": "code",
   "execution_count": 7,
   "id": "d55db36f",
   "metadata": {},
   "outputs": [
    {
     "name": "stdout",
     "output_type": "stream",
     "text": [
      "['but', 'for', 'from', 'giving', 'health', 'individuals', 'inspiration', 'is', 'merely', 'not', 'of', 'peace', 'practice', 'society', 'the', 'wonderful', 'yoga']\n",
      "[[1 2 1 0 0 1 0 1 1 1 0 1 0 1 1 0 1]\n",
      " [0 1 0 1 1 0 1 1 0 0 1 0 1 0 1 1 1]]\n"
     ]
    }
   ],
   "source": [
    "print(vc.get_feature_names()) # shows the unique words in the corpus\n",
    "print(toInt.toarray()) # prints int data for converted strings"
   ]
  },
  {
   "cell_type": "markdown",
   "id": "ba87567c",
   "metadata": {},
   "source": [
    "We can also use ngarm of different size/size range to create vectors"
   ]
  },
  {
   "cell_type": "code",
   "execution_count": 7,
   "id": "d34fb3f9",
   "metadata": {},
   "outputs": [],
   "source": [
    "vc2 = CountVectorizer(analyzer='word', ngram_range=(2,2))\n",
    "toInt2 = vc2.fit_transform(corpus)"
   ]
  },
  {
   "cell_type": "code",
   "execution_count": 8,
   "id": "078ceede",
   "metadata": {},
   "outputs": [
    {
     "name": "stdout",
     "output_type": "stream",
     "text": [
      "['but for', 'for health', 'for individuals', 'for society', 'from yoga', 'giving wonderful', 'individuals but', 'inspiration for', 'is giving', 'is not', 'merely for', 'not merely', 'of yoga', 'peace from', 'practice of', 'the peace', 'the practice', 'wonderful inspiration', 'yoga is']\n",
      "[[1 0 1 1 1 0 1 0 0 1 1 1 0 1 0 1 0 0 1]\n",
      " [0 1 0 0 0 1 0 1 1 0 0 0 1 0 1 0 1 1 1]]\n"
     ]
    }
   ],
   "source": [
    "print(vc2.get_feature_names())\n",
    "print(toInt2.toarray())"
   ]
  },
  {
   "cell_type": "code",
   "execution_count": 9,
   "id": "7fc3e6a3",
   "metadata": {},
   "outputs": [],
   "source": [
    "vc3 = CountVectorizer(analyzer='word', ngram_range=(1,2))\n",
    "toInt3 = vc3.fit_transform(corpus)"
   ]
  },
  {
   "cell_type": "code",
   "execution_count": 10,
   "id": "34469992",
   "metadata": {},
   "outputs": [
    {
     "name": "stdout",
     "output_type": "stream",
     "text": [
      "['but', 'but for', 'for', 'for health', 'for individuals', 'for society', 'from', 'from yoga', 'giving', 'giving wonderful', 'health', 'individuals', 'individuals but', 'inspiration', 'inspiration for', 'is', 'is giving', 'is not', 'merely', 'merely for', 'not', 'not merely', 'of', 'of yoga', 'peace', 'peace from', 'practice', 'practice of', 'society', 'the', 'the peace', 'the practice', 'wonderful', 'wonderful inspiration', 'yoga', 'yoga is']\n",
      "[[1 1 2 0 1 1 1 1 0 0 0 1 1 0 0 1 0 1 1 1 1 1 0 0 1 1 0 0 1 1 1 0 0 0 1 1]\n",
      " [0 0 1 1 0 0 0 0 1 1 1 0 0 1 1 1 1 0 0 0 0 0 1 1 0 0 1 1 0 1 0 1 1 1 1 1]]\n"
     ]
    }
   ],
   "source": [
    "print(vc3.get_feature_names())\n",
    "print(toInt3.toarray())"
   ]
  },
  {
   "cell_type": "markdown",
   "id": "9c67c425",
   "metadata": {},
   "source": [
    "# TF-iDF"
   ]
  },
  {
   "cell_type": "code",
   "execution_count": 11,
   "id": "7a086113",
   "metadata": {},
   "outputs": [
    {
     "name": "stdout",
     "output_type": "stream",
     "text": [
      "The peace from yoga is not merely for individuals but for society\n",
      "The practice of yoga is giving wonderful inspiration for health\n"
     ]
    }
   ],
   "source": [
    "print(senA)\n",
    "print(senB)"
   ]
  },
  {
   "cell_type": "code",
   "execution_count": 12,
   "id": "397c835b",
   "metadata": {},
   "outputs": [],
   "source": [
    "from nltk import word_tokenize"
   ]
  },
  {
   "cell_type": "code",
   "execution_count": 13,
   "id": "64a2aff6",
   "metadata": {},
   "outputs": [],
   "source": [
    "tokenA = word_tokenize(senA)"
   ]
  },
  {
   "cell_type": "code",
   "execution_count": 14,
   "id": "068e88cc",
   "metadata": {},
   "outputs": [
    {
     "data": {
      "text/plain": [
       "['The', 'peace', 'from', 'yoga', 'is']"
      ]
     },
     "execution_count": 14,
     "metadata": {},
     "output_type": "execute_result"
    }
   ],
   "source": [
    "tokenA[:5]"
   ]
  },
  {
   "cell_type": "code",
   "execution_count": 15,
   "id": "fb6ab2cf",
   "metadata": {},
   "outputs": [],
   "source": [
    "tokenB = word_tokenize(senB)"
   ]
  },
  {
   "cell_type": "code",
   "execution_count": 16,
   "id": "8bdd0748",
   "metadata": {},
   "outputs": [
    {
     "data": {
      "text/plain": [
       "['The', 'practice', 'of', 'yoga', 'is']"
      ]
     },
     "execution_count": 16,
     "metadata": {},
     "output_type": "execute_result"
    }
   ],
   "source": [
    "tokenB[:5]"
   ]
  },
  {
   "cell_type": "code",
   "execution_count": 17,
   "id": "94989926",
   "metadata": {},
   "outputs": [],
   "source": [
    "uniqueWords = set(tokenA).union(set(tokenB))"
   ]
  },
  {
   "cell_type": "code",
   "execution_count": 18,
   "id": "b73b45cf",
   "metadata": {},
   "outputs": [
    {
     "data": {
      "text/plain": [
       "{'The',\n",
       " 'but',\n",
       " 'for',\n",
       " 'from',\n",
       " 'giving',\n",
       " 'health',\n",
       " 'individuals',\n",
       " 'inspiration',\n",
       " 'is',\n",
       " 'merely',\n",
       " 'not',\n",
       " 'of',\n",
       " 'peace',\n",
       " 'practice',\n",
       " 'society',\n",
       " 'wonderful',\n",
       " 'yoga'}"
      ]
     },
     "execution_count": 18,
     "metadata": {},
     "output_type": "execute_result"
    }
   ],
   "source": [
    "uniqueWords"
   ]
  },
  {
   "cell_type": "code",
   "execution_count": 19,
   "id": "9f92046d",
   "metadata": {},
   "outputs": [],
   "source": [
    "dictForA = dict.fromkeys(uniqueWords, 0)\n",
    "for word in tokenA:\n",
    "    dictForA[word] += 1"
   ]
  },
  {
   "cell_type": "code",
   "execution_count": 20,
   "id": "6fed2b82",
   "metadata": {},
   "outputs": [
    {
     "data": {
      "text/plain": [
       "{'giving': 0,\n",
       " 'peace': 1,\n",
       " 'of': 0,\n",
       " 'health': 0,\n",
       " 'not': 1,\n",
       " 'yoga': 1,\n",
       " 'but': 1,\n",
       " 'for': 2,\n",
       " 'merely': 1,\n",
       " 'practice': 0,\n",
       " 'wonderful': 0,\n",
       " 'society': 1,\n",
       " 'from': 1,\n",
       " 'is': 1,\n",
       " 'individuals': 1,\n",
       " 'inspiration': 0,\n",
       " 'The': 1}"
      ]
     },
     "execution_count": 20,
     "metadata": {},
     "output_type": "execute_result"
    }
   ],
   "source": [
    "dictForA"
   ]
  },
  {
   "cell_type": "code",
   "execution_count": 21,
   "id": "666ac75f",
   "metadata": {},
   "outputs": [],
   "source": [
    "dictForB = dict.fromkeys(uniqueWords, 0)\n",
    "for word in tokenB:\n",
    "    dictForB[word] += 1"
   ]
  },
  {
   "cell_type": "code",
   "execution_count": 22,
   "id": "5b0336c4",
   "metadata": {},
   "outputs": [
    {
     "data": {
      "text/plain": [
       "{'giving': 1,\n",
       " 'peace': 0,\n",
       " 'of': 1,\n",
       " 'health': 1,\n",
       " 'not': 0,\n",
       " 'yoga': 1,\n",
       " 'but': 0,\n",
       " 'for': 1,\n",
       " 'merely': 0,\n",
       " 'practice': 1,\n",
       " 'wonderful': 1,\n",
       " 'society': 0,\n",
       " 'from': 0,\n",
       " 'is': 1,\n",
       " 'individuals': 0,\n",
       " 'inspiration': 1,\n",
       " 'The': 1}"
      ]
     },
     "execution_count": 22,
     "metadata": {},
     "output_type": "execute_result"
    }
   ],
   "source": [
    "dictForB"
   ]
  },
  {
   "cell_type": "markdown",
   "id": "79152c9e",
   "metadata": {},
   "source": [
    "TF = term frequency, \n",
    "formula for tf = number of occurance of word \"x\" in a sentence or corpus/ total number of words in a sentence or corpus"
   ]
  },
  {
   "cell_type": "code",
   "execution_count": 23,
   "id": "8a3bcece",
   "metadata": {},
   "outputs": [],
   "source": [
    "def computeTF(wordDict, Tokens):\n",
    "    tf = {}\n",
    "    tokenLen = len(Tokens)\n",
    "    for word,count in wordDict.items():\n",
    "        tf[word] = count / float(tokenLen)\n",
    "    return tf"
   ]
  },
  {
   "cell_type": "code",
   "execution_count": 24,
   "id": "7fba2492",
   "metadata": {},
   "outputs": [],
   "source": [
    "TFA = computeTF(dictForA,tokenA)\n",
    "TFB = computeTF(dictForB,tokenB)"
   ]
  },
  {
   "cell_type": "markdown",
   "id": "08751b0c",
   "metadata": {},
   "source": [
    "iDF = inverse document frequency, formula for iDF = log(total number of docs/ total number of docs that has word \"x\")"
   ]
  },
  {
   "cell_type": "code",
   "execution_count": 25,
   "id": "7dcaf0e0",
   "metadata": {},
   "outputs": [],
   "source": [
    "import math\n",
    "def computeidf(docs):\n",
    "    N = len(docs)\n",
    "    idfdict = dict.fromkeys(docs[0].keys(),0)\n",
    "    for doc in docs:\n",
    "        for word, val in doc.items():\n",
    "            if val > 0:\n",
    "                idfdict[word] += 1\n",
    "    \n",
    "    for word,val in idfdict.items():\n",
    "        idfdict[word] = math.log(N / float(val))\n",
    "    return idfdict"
   ]
  },
  {
   "cell_type": "code",
   "execution_count": 26,
   "id": "11c29cc2",
   "metadata": {},
   "outputs": [],
   "source": [
    "idfs = computeidf([dictForA,dictForB])"
   ]
  },
  {
   "cell_type": "markdown",
   "id": "96e21d63",
   "metadata": {},
   "source": [
    "tfidf = tf * idf"
   ]
  },
  {
   "cell_type": "code",
   "execution_count": 27,
   "id": "34a5962f",
   "metadata": {},
   "outputs": [],
   "source": [
    "def computetfidf(tf, idfs):\n",
    "    tfidf = dict()\n",
    "    for word, val in tf.items():\n",
    "        tfidf[word] = val*idfs[word]\n",
    "    return tfidf"
   ]
  },
  {
   "cell_type": "code",
   "execution_count": 28,
   "id": "e5a77cac",
   "metadata": {},
   "outputs": [],
   "source": [
    "tfidfA = computetfidf(TFA, idfs)\n",
    "tfidfB = computetfidf(TFB, idfs)"
   ]
  },
  {
   "cell_type": "code",
   "execution_count": 29,
   "id": "ec0734d2",
   "metadata": {},
   "outputs": [],
   "source": [
    "import pandas as pd"
   ]
  },
  {
   "cell_type": "code",
   "execution_count": 30,
   "id": "093da24d",
   "metadata": {},
   "outputs": [
    {
     "data": {
      "text/html": [
       "<div>\n",
       "<style scoped>\n",
       "    .dataframe tbody tr th:only-of-type {\n",
       "        vertical-align: middle;\n",
       "    }\n",
       "\n",
       "    .dataframe tbody tr th {\n",
       "        vertical-align: top;\n",
       "    }\n",
       "\n",
       "    .dataframe thead th {\n",
       "        text-align: right;\n",
       "    }\n",
       "</style>\n",
       "<table border=\"1\" class=\"dataframe\">\n",
       "  <thead>\n",
       "    <tr style=\"text-align: right;\">\n",
       "      <th></th>\n",
       "      <th>giving</th>\n",
       "      <th>peace</th>\n",
       "      <th>of</th>\n",
       "      <th>health</th>\n",
       "      <th>not</th>\n",
       "      <th>yoga</th>\n",
       "      <th>but</th>\n",
       "      <th>for</th>\n",
       "      <th>merely</th>\n",
       "      <th>practice</th>\n",
       "      <th>wonderful</th>\n",
       "      <th>society</th>\n",
       "      <th>from</th>\n",
       "      <th>is</th>\n",
       "      <th>individuals</th>\n",
       "      <th>inspiration</th>\n",
       "      <th>The</th>\n",
       "    </tr>\n",
       "  </thead>\n",
       "  <tbody>\n",
       "    <tr>\n",
       "      <th>0</th>\n",
       "      <td>0.000000</td>\n",
       "      <td>0.057762</td>\n",
       "      <td>0.000000</td>\n",
       "      <td>0.000000</td>\n",
       "      <td>0.057762</td>\n",
       "      <td>0.0</td>\n",
       "      <td>0.057762</td>\n",
       "      <td>0.0</td>\n",
       "      <td>0.057762</td>\n",
       "      <td>0.000000</td>\n",
       "      <td>0.000000</td>\n",
       "      <td>0.057762</td>\n",
       "      <td>0.057762</td>\n",
       "      <td>0.0</td>\n",
       "      <td>0.057762</td>\n",
       "      <td>0.000000</td>\n",
       "      <td>0.0</td>\n",
       "    </tr>\n",
       "    <tr>\n",
       "      <th>1</th>\n",
       "      <td>0.069315</td>\n",
       "      <td>0.000000</td>\n",
       "      <td>0.069315</td>\n",
       "      <td>0.069315</td>\n",
       "      <td>0.000000</td>\n",
       "      <td>0.0</td>\n",
       "      <td>0.000000</td>\n",
       "      <td>0.0</td>\n",
       "      <td>0.000000</td>\n",
       "      <td>0.069315</td>\n",
       "      <td>0.069315</td>\n",
       "      <td>0.000000</td>\n",
       "      <td>0.000000</td>\n",
       "      <td>0.0</td>\n",
       "      <td>0.000000</td>\n",
       "      <td>0.069315</td>\n",
       "      <td>0.0</td>\n",
       "    </tr>\n",
       "  </tbody>\n",
       "</table>\n",
       "</div>"
      ],
      "text/plain": [
       "     giving     peace        of    health       not  yoga       but  for  \\\n",
       "0  0.000000  0.057762  0.000000  0.000000  0.057762   0.0  0.057762  0.0   \n",
       "1  0.069315  0.000000  0.069315  0.069315  0.000000   0.0  0.000000  0.0   \n",
       "\n",
       "     merely  practice  wonderful   society      from   is  individuals  \\\n",
       "0  0.057762  0.000000   0.000000  0.057762  0.057762  0.0     0.057762   \n",
       "1  0.000000  0.069315   0.069315  0.000000  0.000000  0.0     0.000000   \n",
       "\n",
       "   inspiration  The  \n",
       "0     0.000000  0.0  \n",
       "1     0.069315  0.0  "
      ]
     },
     "execution_count": 30,
     "metadata": {},
     "output_type": "execute_result"
    }
   ],
   "source": [
    "df = pd.DataFrame([tfidfA,tfidfB])\n",
    "df"
   ]
  },
  {
   "cell_type": "markdown",
   "id": "ef8e4ecc",
   "metadata": {},
   "source": [
    "We can simlply use sklearn to implement tfidf method"
   ]
  },
  {
   "cell_type": "code",
   "execution_count": 31,
   "id": "6474a04e",
   "metadata": {},
   "outputs": [],
   "source": [
    "from sklearn.feature_extraction.text import TfidfVectorizer"
   ]
  },
  {
   "cell_type": "code",
   "execution_count": 32,
   "id": "58dc5767",
   "metadata": {},
   "outputs": [],
   "source": [
    "tfidf = TfidfVectorizer()"
   ]
  },
  {
   "cell_type": "code",
   "execution_count": 33,
   "id": "5e0d7bb5",
   "metadata": {},
   "outputs": [],
   "source": [
    "data = pd.DataFrame({\"txt\":corpus})"
   ]
  },
  {
   "cell_type": "code",
   "execution_count": 34,
   "id": "f81e57e4",
   "metadata": {},
   "outputs": [
    {
     "data": {
      "text/html": [
       "<div>\n",
       "<style scoped>\n",
       "    .dataframe tbody tr th:only-of-type {\n",
       "        vertical-align: middle;\n",
       "    }\n",
       "\n",
       "    .dataframe tbody tr th {\n",
       "        vertical-align: top;\n",
       "    }\n",
       "\n",
       "    .dataframe thead th {\n",
       "        text-align: right;\n",
       "    }\n",
       "</style>\n",
       "<table border=\"1\" class=\"dataframe\">\n",
       "  <thead>\n",
       "    <tr style=\"text-align: right;\">\n",
       "      <th></th>\n",
       "      <th>txt</th>\n",
       "    </tr>\n",
       "  </thead>\n",
       "  <tbody>\n",
       "    <tr>\n",
       "      <th>0</th>\n",
       "      <td>The peace from yoga is not merely for individu...</td>\n",
       "    </tr>\n",
       "    <tr>\n",
       "      <th>1</th>\n",
       "      <td>The practice of yoga is giving wonderful inspi...</td>\n",
       "    </tr>\n",
       "  </tbody>\n",
       "</table>\n",
       "</div>"
      ],
      "text/plain": [
       "                                                 txt\n",
       "0  The peace from yoga is not merely for individu...\n",
       "1  The practice of yoga is giving wonderful inspi..."
      ]
     },
     "execution_count": 34,
     "metadata": {},
     "output_type": "execute_result"
    }
   ],
   "source": [
    "data"
   ]
  },
  {
   "cell_type": "code",
   "execution_count": 35,
   "id": "f97fa7fe",
   "metadata": {},
   "outputs": [
    {
     "data": {
      "text/plain": [
       "0    The peace from yoga is not merely for individu...\n",
       "1    The practice of yoga is giving wonderful inspi...\n",
       "Name: txt, dtype: object"
      ]
     },
     "execution_count": 35,
     "metadata": {},
     "output_type": "execute_result"
    }
   ],
   "source": [
    "data['txt']"
   ]
  },
  {
   "cell_type": "code",
   "execution_count": 36,
   "id": "b522cb3c",
   "metadata": {},
   "outputs": [],
   "source": [
    "vectors = tfidf.fit_transform(data['txt'])"
   ]
  },
  {
   "cell_type": "code",
   "execution_count": 37,
   "id": "76833ebe",
   "metadata": {},
   "outputs": [
    {
     "data": {
      "text/plain": [
       "['but',\n",
       " 'for',\n",
       " 'from',\n",
       " 'giving',\n",
       " 'health',\n",
       " 'individuals',\n",
       " 'inspiration',\n",
       " 'is',\n",
       " 'merely',\n",
       " 'not',\n",
       " 'of',\n",
       " 'peace',\n",
       " 'practice',\n",
       " 'society',\n",
       " 'the',\n",
       " 'wonderful',\n",
       " 'yoga']"
      ]
     },
     "execution_count": 37,
     "metadata": {},
     "output_type": "execute_result"
    }
   ],
   "source": [
    "tfidf.get_feature_names()"
   ]
  },
  {
   "cell_type": "code",
   "execution_count": null,
   "id": "5b7b4afc",
   "metadata": {},
   "outputs": [],
   "source": []
  }
 ],
 "metadata": {
  "kernelspec": {
   "display_name": "Python 3 (ipykernel)",
   "language": "python",
   "name": "python3"
  },
  "language_info": {
   "codemirror_mode": {
    "name": "ipython",
    "version": 3
   },
   "file_extension": ".py",
   "mimetype": "text/x-python",
   "name": "python",
   "nbconvert_exporter": "python",
   "pygments_lexer": "ipython3",
   "version": "3.9.7"
  }
 },
 "nbformat": 4,
 "nbformat_minor": 5
}
